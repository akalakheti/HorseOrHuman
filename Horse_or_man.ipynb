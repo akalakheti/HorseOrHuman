{
  "nbformat": 4,
  "nbformat_minor": 0,
  "metadata": {
    "colab": {
      "name": "Horse or man.ipynb",
      "provenance": [],
      "collapsed_sections": []
    },
    "kernelspec": {
      "name": "python3",
      "display_name": "Python 3"
    },
    "accelerator": "GPU"
  },
  "cells": [
    {
      "cell_type": "code",
      "metadata": {
        "id": "kg3zbAyDIoAw",
        "colab_type": "code",
        "colab": {}
      },
      "source": [
        "%tensorflow_version 2.x"
      ],
      "execution_count": 0,
      "outputs": []
    },
    {
      "cell_type": "code",
      "metadata": {
        "id": "p-v-E3FsHeJi",
        "colab_type": "code",
        "colab": {}
      },
      "source": [
        "import tensorflow as tf\n",
        "import matplotlib.pyplot as plt\n",
        "import numpy as np\n",
        "import tensorflow_datasets as tfds\n",
        "import tensorflow_hub as hub\n",
        "from tensorflow.keras import layers"
      ],
      "execution_count": 0,
      "outputs": []
    },
    {
      "cell_type": "code",
      "metadata": {
        "id": "tndk75ENHo4t",
        "colab_type": "code",
        "colab": {}
      },
      "source": [
        "dataset, info = tfds.load(name='horses_or_humans',with_info=True, as_supervised=True)"
      ],
      "execution_count": 0,
      "outputs": []
    },
    {
      "cell_type": "code",
      "metadata": {
        "id": "_N87YUKaeVhS",
        "colab_type": "code",
        "colab": {}
      },
      "source": [
        "train_dataset, test_dataset = dataset['train'], dataset['test']\n",
        "num_train = info.splits['train'].num_examples\n",
        "num_test = info.splits['test'].num_examples"
      ],
      "execution_count": 0,
      "outputs": []
    },
    {
      "cell_type": "code",
      "metadata": {
        "id": "Rw8HgPNJek8K",
        "colab_type": "code",
        "colab": {}
      },
      "source": [
        "#normalizing and resizing the image to make it fit for pre-trained model.\n",
        "def normalize(image, labels):\n",
        "  image = tf.image.resize(image, (128, 128))/255.0\n",
        "  return image, labels\n",
        "\n",
        "\n",
        "BATCH_SIZE = 64\n",
        "#shuffling and implementing normalize function on train, test and validation dataset\n",
        "train_batches     = train_dataset.shuffle(num_train//4).map(normalize).batch(BATCH_SIZE).prefetch(1)\n",
        "validation_batches      = test_dataset.map(normalize).batch(BATCH_SIZE).prefetch(1)\n",
        "test_batches     = test_dataset.map(normalize).batch(3000).prefetch(1)"
      ],
      "execution_count": 0,
      "outputs": []
    },
    {
      "cell_type": "code",
      "metadata": {
        "id": "tVcMyi9v09Xk",
        "colab_type": "code",
        "colab": {}
      },
      "source": [
        "#downloading the pre-trained model\n",
        "feature_extractor2 = hub.KerasLayer(\"https://tfhub.dev/google/imagenet/mobilenet_v2_035_128/feature_vector/4\",input_shape=(128, 128, 3)\n",
        "                                   )"
      ],
      "execution_count": 0,
      "outputs": []
    },
    {
      "cell_type": "code",
      "metadata": {
        "id": "FdzB6BMBYTvL",
        "colab_type": "code",
        "colab": {}
      },
      "source": [
        "#creating model\n",
        "model = tf.keras.Sequential([feature_extractor2,\n",
        "                            layers.Dense(1, activation='sigmoid')])"
      ],
      "execution_count": 0,
      "outputs": []
    },
    {
      "cell_type": "code",
      "metadata": {
        "id": "7lL98RFOYYF4",
        "colab_type": "code",
        "outputId": "31f5784b-2175-4887-84f2-f73cee97543b",
        "colab": {
          "base_uri": "https://localhost:8080/",
          "height": 221
        }
      },
      "source": [
        "#training the model\n",
        "model.compile(\n",
        "  optimizer='adam',\n",
        "  loss='binary_crossentropy',\n",
        "  metrics=['accuracy'])\n",
        "\n",
        "EPOCHS = 6\n",
        "history = model.fit(train_batches,\n",
        "                    epochs=EPOCHS,\n",
        "                   validation_data=validation_batches)"
      ],
      "execution_count": 0,
      "outputs": [
        {
          "output_type": "stream",
          "text": [
            "Epoch 1/6\n",
            "17/17 [==============================] - 10s 594ms/step - loss: 0.3582 - accuracy: 0.8627 - val_loss: 0.1612 - val_accuracy: 0.9805\n",
            "Epoch 2/6\n",
            "17/17 [==============================] - 5s 294ms/step - loss: 0.0801 - accuracy: 0.9893 - val_loss: 0.0851 - val_accuracy: 0.9883\n",
            "Epoch 3/6\n",
            "17/17 [==============================] - 5s 287ms/step - loss: 0.0421 - accuracy: 0.9942 - val_loss: 0.0686 - val_accuracy: 0.9961\n",
            "Epoch 4/6\n",
            "17/17 [==============================] - 5s 298ms/step - loss: 0.0300 - accuracy: 0.9971 - val_loss: 0.0593 - val_accuracy: 0.9961\n",
            "Epoch 5/6\n",
            "17/17 [==============================] - 5s 291ms/step - loss: 0.0237 - accuracy: 0.9981 - val_loss: 0.0527 - val_accuracy: 0.9961\n",
            "Epoch 6/6\n",
            "17/17 [==============================] - 5s 294ms/step - loss: 0.0197 - accuracy: 0.9990 - val_loss: 0.0484 - val_accuracy: 0.9961\n"
          ],
          "name": "stdout"
        }
      ]
    },
    {
      "cell_type": "code",
      "metadata": {
        "id": "IPTtZYtE8Cql",
        "colab_type": "code",
        "colab": {}
      },
      "source": [
        ""
      ],
      "execution_count": 0,
      "outputs": []
    },
    {
      "cell_type": "code",
      "metadata": {
        "id": "YN-d8hE7UUXo",
        "colab_type": "code",
        "colab": {}
      },
      "source": [
        "model.save('/content/model.h5')"
      ],
      "execution_count": 0,
      "outputs": []
    },
    {
      "cell_type": "code",
      "metadata": {
        "id": "VvBP58yS8wzs",
        "colab_type": "code",
        "outputId": "4e888d2c-34c4-4559-efab-64074b9c6518",
        "colab": {
          "base_uri": "https://localhost:8080/",
          "height": 34
        }
      },
      "source": [
        "\n",
        "converter = tf.lite.TFLiteConverter.from_keras_model(model)\n",
        "tfmodel = converter.convert()\n",
        "open (\"model.tflite\" , \"wb\") .write(tfmodel)\n"
      ],
      "execution_count": 0,
      "outputs": [
        {
          "output_type": "execute_result",
          "data": {
            "text/plain": [
              "1604524"
            ]
          },
          "metadata": {
            "tags": []
          },
          "execution_count": 10
        }
      ]
    },
    {
      "cell_type": "code",
      "metadata": {
        "id": "auQSFg4w8_4j",
        "colab_type": "code",
        "colab": {}
      },
      "source": [
        ""
      ],
      "execution_count": 0,
      "outputs": []
    }
  ]
}